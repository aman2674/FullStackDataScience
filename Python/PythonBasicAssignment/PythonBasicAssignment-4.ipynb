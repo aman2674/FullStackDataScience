{
 "cells": [
  {
   "cell_type": "markdown",
   "id": "a7755e57",
   "metadata": {},
   "source": [
    "# ***`Python Basic Assignment - 4`***"
   ]
  },
  {
   "cell_type": "markdown",
   "id": "b20897e7",
   "metadata": {},
   "source": [
    "#### 1. What exactly is []?\n",
    "**Ans:-** `[]` is represent empty list."
   ]
  },
  {
   "cell_type": "markdown",
   "id": "1b88e143",
   "metadata": {},
   "source": [
    "####\n",
    "**Ans:-**"
   ]
  },
  {
   "cell_type": "markdown",
   "id": "ba7e6d92",
   "metadata": {},
   "source": [
    "#### 2. In a list of values stored in a variable called spam, how would you assign the value &#39;hello&#39; as the third value? (Assume [2, 4, 6, 8, 10] are in spam.)\n",
    "**Ans:-** spam[2] = \"hello\""
   ]
  },
  {
   "cell_type": "code",
   "execution_count": 1,
   "id": "66ae30c8",
   "metadata": {},
   "outputs": [
    {
     "name": "stdout",
     "output_type": "stream",
     "text": [
      "Intial value of spam :-  [2, 4, 6, 8, 10]\n",
      "Intial value of spam :-  [2, 4, 'hello', 8, 10]\n"
     ]
    }
   ],
   "source": [
    "#intial values of spam list\n",
    "spam = [2,4,6,8,10]\n",
    "print(\"Intial value of spam :- \",spam)\n",
    "#final values of spam list\n",
    "spam[2] = 'hello'\n",
    "print(\"Intial value of spam :- \",spam)"
   ]
  },
  {
   "cell_type": "markdown",
   "id": "8faa740a",
   "metadata": {},
   "source": [
    "### Let's pretend the spam includes the list ['a','b','c','d'] for the next three queries.\n",
    "\n",
    "#### 3. What is the value of spam[int(int('3' * 2) / 11)]?\n",
    "**Ans:-** `'d'`"
   ]
  },
  {
   "cell_type": "code",
   "execution_count": 6,
   "id": "4bc333ae",
   "metadata": {},
   "outputs": [
    {
     "name": "stdout",
     "output_type": "stream",
     "text": [
      "d\n"
     ]
    }
   ],
   "source": [
    "spam = ['a','b','c','d']\n",
    "result = spam[int(int('3' * 2) / 11)]\n",
    "print(result)"
   ]
  },
  {
   "cell_type": "markdown",
   "id": "dc4567e2",
   "metadata": {},
   "source": [
    "#### 4. What is the value of spam[-1]?\n",
    "**Ans:-** `'d'` because  -1 is negative index"
   ]
  },
  {
   "cell_type": "code",
   "execution_count": 7,
   "id": "44f8e4e0",
   "metadata": {},
   "outputs": [
    {
     "name": "stdout",
     "output_type": "stream",
     "text": [
      "d\n"
     ]
    }
   ],
   "source": [
    "spam = ['a','b','c','d']\n",
    "result = spam[-1]\n",
    "print(result)"
   ]
  },
  {
   "cell_type": "markdown",
   "id": "5c06927a",
   "metadata": {},
   "source": [
    "#### 5. What is the value of spam[:2]?\n",
    "**Ans:-** `'a','b'` "
   ]
  },
  {
   "cell_type": "code",
   "execution_count": 8,
   "id": "5682b3e2",
   "metadata": {},
   "outputs": [
    {
     "name": "stdout",
     "output_type": "stream",
     "text": [
      "['a', 'b']\n"
     ]
    }
   ],
   "source": [
    "spam = ['a','b','c','d']\n",
    "result = spam[:2]\n",
    "print(result)"
   ]
  },
  {
   "cell_type": "markdown",
   "id": "1e9d339e",
   "metadata": {},
   "source": [
    "### Let's pretend bacon has the list [3.14, 'cat',11,'cat', True] for the next three questions."
   ]
  },
  {
   "cell_type": "markdown",
   "id": "7eef6ff8",
   "metadata": {},
   "source": [
    "#### 6. What is the value of bacon.index('cat')?\n",
    "**Ans:-** `1` because index start from 0 not 1 and also method returns first occurance"
   ]
  },
  {
   "cell_type": "code",
   "execution_count": 9,
   "id": "0369bcbf",
   "metadata": {},
   "outputs": [
    {
     "name": "stdout",
     "output_type": "stream",
     "text": [
      "bacon.index('cat') :-  1\n"
     ]
    }
   ],
   "source": [
    "bacon = [3.14,'cat',11,'cat',True]\n",
    "print(\"bacon.index('cat') :- \",bacon.index('cat'))"
   ]
  },
  {
   "cell_type": "markdown",
   "id": "ca4195bd",
   "metadata": {},
   "source": [
    "#### 7. How does bacon.append(99) change the look of the list value in bacon?\n",
    "**Ans:-** it'll add `99` in the end of the list."
   ]
  },
  {
   "cell_type": "code",
   "execution_count": 12,
   "id": "d42c3a6e",
   "metadata": {},
   "outputs": [
    {
     "name": "stdout",
     "output_type": "stream",
     "text": [
      "Intial Bacon List :-  [3.14, 'cat', 11, 'cat', True]\n",
      "bacon.append(99) :-  [3.14, 'cat', 11, 'cat', True, 99]\n"
     ]
    }
   ],
   "source": [
    "bacon = [3.14,'cat',11,'cat',True]\n",
    "print(\"Intial Bacon List :- \", bacon)\n",
    "bacon.append(99)\n",
    "print('bacon.append(99) :- ',bacon)\n"
   ]
  },
  {
   "cell_type": "markdown",
   "id": "ce529a26",
   "metadata": {},
   "source": [
    "#### 8. How does bacon.remove('cat') change the look of the list in bacon?\n",
    "**Ans:-** It'll remove first occurance of `'cat'` from bacon list."
   ]
  },
  {
   "cell_type": "code",
   "execution_count": 13,
   "id": "ecb0e4e8",
   "metadata": {},
   "outputs": [
    {
     "name": "stdout",
     "output_type": "stream",
     "text": [
      "Intial Bacon List :-  [3.14, 'cat', 11, 'cat', True]\n",
      "bacon.append(99) :-  [3.14, 11, 'cat', True]\n"
     ]
    }
   ],
   "source": [
    "bacon = [3.14,'cat',11,'cat',True]\n",
    "print(\"Intial Bacon List :- \", bacon)\n",
    "bacon.remove('cat')\n",
    "print('bacon.append(99) :- ',bacon)"
   ]
  },
  {
   "cell_type": "markdown",
   "id": "d81bc37a",
   "metadata": {},
   "source": [
    "#### 9.what are the list concatenation and list replication operations?\n",
    "**Ans:-** The operator for list concatenation is `+`, while the operator for replication is `*`."
   ]
  },
  {
   "cell_type": "code",
   "execution_count": 14,
   "id": "2c09c0c1",
   "metadata": {},
   "outputs": [
    {
     "name": "stdout",
     "output_type": "stream",
     "text": [
      "['ML', 'DL', 'AI', 'CV', 'NLP', 'RNN', 'CNN', 'SVN']\n",
      "['RNN', 'CNN', 'SVN', 'RNN', 'CNN', 'SVN']\n"
     ]
    }
   ],
   "source": [
    "# Example\n",
    "list_1 = ['ML','DL','AI','CV','NLP']\n",
    "list_2 = ['RNN','CNN','SVN']\n",
    "print(list_1 + list_2) # List Concatenation\n",
    "print(list_2*2) # List Replication"
   ]
  },
  {
   "cell_type": "markdown",
   "id": "4aa77cd5",
   "metadata": {},
   "source": [
    "#### 10.what is the difference between the list method append() and insert()?\n",
    "**Ans:-** While `append()` will add values only to the end of a list, `insert()` can add them anywhere in the list."
   ]
  },
  {
   "cell_type": "code",
   "execution_count": 15,
   "id": "81a7a04e",
   "metadata": {},
   "outputs": [
    {
     "name": "stdout",
     "output_type": "stream",
     "text": [
      "[1, 2, 3, 4, 5, 6]\n",
      "[1, 2, 'Demo', 3, 4, 5, 6]\n"
     ]
    }
   ],
   "source": [
    "#Examples\n",
    "list = [1,2,3,4,5]\n",
    "list.append(6)\n",
    "print(list)\n",
    "list.insert(2,'Demo')\n",
    "print(list)"
   ]
  },
  {
   "cell_type": "markdown",
   "id": "0102f1c2",
   "metadata": {},
   "source": [
    "#### 11. What are the two methods for removing items from a list?\n",
    "\n",
    "**Ans:-** The `del` statement and the `remove()` method are two ways to remove values from a list\n",
    "\n",
    "#### 12. Describe how list values and string values are identical.\n",
    "\n",
    "**Ans:-** Both `lists` and `strings` can be passed to len() function, have indexes and slices, be used in for loops, be concatenated or replicated, and be used with the in and not in operators.\n",
    "\n",
    "#### 13. What's the difference between tuples and lists?\n",
    "\n",
    "**Ans:-** Lists are Mutable, Indexable and Slicable. they can have values added, removed, or changed. Tuples are Immutable but Indexable and Slicable. the tuple values cannot be changed at all. Also, tuples are represented using parentheses, (), while lists use the square brackets, [].\n",
    "\n",
    "#### 14. How do you type a tuple value that only contains the integer 42?\n",
    "\n",
    "**Ans:-** `(42,)` The trailing comma is mandatory. otherwise its considered as a int by python Interpreter"
   ]
  },
  {
   "cell_type": "code",
   "execution_count": 16,
   "id": "2fb0626a",
   "metadata": {},
   "outputs": [
    {
     "name": "stdout",
     "output_type": "stream",
     "text": [
      "<class 'int'>\n",
      "<class 'tuple'>\n"
     ]
    }
   ],
   "source": [
    "tup1=(42)\n",
    "tup2=(42,)\n",
    "print(type(tup1))\n",
    "print(type(tup2))"
   ]
  },
  {
   "cell_type": "markdown",
   "id": "3f14564b",
   "metadata": {},
   "source": [
    "#### 15. How do you get a list value's tuple form? How do you get a tuple value's list form?\n",
    "\n",
    "**Ans:-** The `tuple()` and `list()` functions, respectively are used to convert a list to tuple and vice versa"
   ]
  },
  {
   "cell_type": "markdown",
   "id": "b5ee09f1",
   "metadata": {},
   "source": [
    "#### 16. Variables that \"contain\" list values are not necessarily lists themselves. Instead, what do they contain?\n",
    "\n",
    "**Ans:-** They contain references to list values."
   ]
  },
  {
   "cell_type": "markdown",
   "id": "e30dce05",
   "metadata": {},
   "source": [
    "#### 17. How do you distinguish between copy.copy() and copy.deepcopy()?\n",
    "\n",
    "**Ans:-** The `copy.copy()` function will do a shallow copy of a list, while the `copy.deepcopy()` function will do a deep copy of a list. That is, only copy.deepcopy() will duplicate any lists inside the list."
   ]
  }
 ],
 "metadata": {
  "kernelspec": {
   "display_name": "Python [conda env:tensorflow] *",
   "language": "python",
   "name": "conda-env-tensorflow-py"
  },
  "language_info": {
   "codemirror_mode": {
    "name": "ipython",
    "version": 3
   },
   "file_extension": ".py",
   "mimetype": "text/x-python",
   "name": "python",
   "nbconvert_exporter": "python",
   "pygments_lexer": "ipython3",
   "version": "3.9.12"
  }
 },
 "nbformat": 4,
 "nbformat_minor": 5
}
