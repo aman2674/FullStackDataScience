{
 "cells": [
  {
   "cell_type": "markdown",
   "id": "02c1bf92",
   "metadata": {},
   "source": [
    "# ***`Python Basic Assignment - 1`***"
   ]
  },
  {
   "cell_type": "markdown",
   "id": "edbd954c",
   "metadata": {},
   "source": [
    "#### **1.** In the below elements which of them are values or an expression? eg:- values can beinteger or string and expressions will be mathematical operators.\n",
    "\n",
    "`*,'hello', -87.8 , - , / , + , 6`\n",
    "\n",
    "**Ans:-** There are total 3 values and 4 expression\n",
    " - `Values` 'hello' , 6 , -87.6\n",
    " - `Expression` * , - , / , +"
   ]
  },
  {
   "cell_type": "markdown",
   "id": "dc7cf075",
   "metadata": {},
   "source": [
    "#### 2. What is the difference between string and variable?\n",
    "**Ans:-** A variable is used to store of information, and a string is type of information you would store in a Variable. A string is a group of Characters or a single character usually enclosed in Double quotes `\" \"` or single quotes `' '`"
   ]
  },
  {
   "cell_type": "markdown",
   "id": "ea315f46",
   "metadata": {},
   "source": [
    "#### 3. Describe three different data types.\n",
    "**Ans:-** Three fundamental Data types in python are `string`, `int`, `float`."
   ]
  },
  {
   "cell_type": "code",
   "execution_count": 11,
   "id": "a7b20139",
   "metadata": {},
   "outputs": [
    {
     "name": "stdout",
     "output_type": "stream",
     "text": [
      "String:-\n",
      " Hello World  \n",
      " type :- <class 'str'> \n",
      "\n",
      "\n",
      "int:- \n",
      " 10  \n",
      " type :- <class 'int'> \n",
      "\n",
      "\n",
      "float:- \n",
      " 2.5  \n",
      " type :- <class 'float'>\n"
     ]
    }
   ],
   "source": [
    "#string\n",
    "a = \"Hello World\"\n",
    "print(\"String:-\\n\",a,\" \\n type :-\",type(a),'\\n\\n',)\n",
    "#int\n",
    "b = 10\n",
    "print(\"int:- \\n\",b,\" \\n type :-\",type(b),'\\n\\n')\n",
    "#float\n",
    "c = 2.5\n",
    "print(\"float:- \\n\",c,\" \\n type :-\",type(c))"
   ]
  },
  {
   "cell_type": "markdown",
   "id": "b61c84ff",
   "metadata": {},
   "source": [
    "#### 4. What is an expression made up of? What do all expressions do?\n",
    "**Ans:-** An expression is a combination of values, variables, operators, and calls to functions. Expression need to be evalutaed. "
   ]
  },
  {
   "cell_type": "code",
   "execution_count": 13,
   "id": "25cfe74f",
   "metadata": {},
   "outputs": [
    {
     "data": {
      "text/plain": [
       "132"
      ]
     },
     "execution_count": 13,
     "metadata": {},
     "output_type": "execute_result"
    }
   ],
   "source": [
    "7*9+69 #expression"
   ]
  },
  {
   "cell_type": "markdown",
   "id": "6c74b4b7",
   "metadata": {},
   "source": [
    "#### 5. This assignment statements, like spam = 10. What is the difference between an expression and a statement?\n",
    "**Ans:-** An expression is a combination of values, variables, and operators. When we type an expression at the prompt, the interpreter evaluates it, which means that it finds the value of the expression.\n",
    "\n",
    "**eg:** `4*5+20-40` is an example of a statement\n",
    "\n",
    "A statement is a unit of code that has an effect, like creating a variable or displaying a value.When we type a statement, the interpreter executes it, which means that it does whatever the statement says. In general, statements don’t have values.\n",
    "\n",
    "**eg:** variable declaration and assignment are statements because they do not return a value"
   ]
  },
  {
   "cell_type": "markdown",
   "id": "68fa6358",
   "metadata": {},
   "source": [
    "#### 6. After running the following code, what does the variable bacon contain?\n",
    "#### bacon = 22\n",
    "#### bacon + 1\n",
    "**Ans:-** bacon = 23"
   ]
  },
  {
   "cell_type": "code",
   "execution_count": 14,
   "id": "580731d4",
   "metadata": {},
   "outputs": [
    {
     "name": "stdout",
     "output_type": "stream",
     "text": [
      "23\n"
     ]
    }
   ],
   "source": [
    "bacon = 22\n",
    "print(bacon + 1)"
   ]
  },
  {
   "cell_type": "markdown",
   "id": "35146644",
   "metadata": {},
   "source": [
    "#### 7. What should the values of the following two terms be?\n",
    "#### `'spam' + 'spamspam'`\n",
    "#### `'spam' * 3`\n",
    "**Ans:-** Both output are same `spamspamspam`"
   ]
  },
  {
   "cell_type": "code",
   "execution_count": 16,
   "id": "a6bc424c",
   "metadata": {},
   "outputs": [
    {
     "name": "stdout",
     "output_type": "stream",
     "text": [
      "spamspamspam\n",
      "spamspamspam\n"
     ]
    }
   ],
   "source": [
    "print('spam'+'spamspam')\n",
    "print ('spam' * 3)"
   ]
  },
  {
   "cell_type": "markdown",
   "id": "8feea244",
   "metadata": {},
   "source": [
    "#### 8. Why is eggs a valid variable name while 100 is invalid?\n",
    "**Ans:-** As per python,Variable names cannot begin with a number. The python rules for naming a variable are :-\n",
    "\n",
    "1. Variable name must start with a letter or the underscore character.\n",
    "2. Variable name cannot start with a number.\n",
    "3. Variable name can only contain alpha-numeric characters and underscores (A-z, 0-9, & _ ).\n",
    "4. Variable names are case-sensitive.\n",
    "5. The reserved words(keywords) cannot be used naming the variable.\n"
   ]
  },
  {
   "cell_type": "markdown",
   "id": "cf77bc3b",
   "metadata": {},
   "source": [
    "#### 9. What three functions can be used to get the integer, floating-point number, or string version of a value?\n",
    "**Ans:-**  The `int()`,`float()`,and `str()` functions will evaluate to the integer,floating-point number,string version of the value passed to them."
   ]
  },
  {
   "cell_type": "code",
   "execution_count": 20,
   "id": "f03c1eca",
   "metadata": {},
   "outputs": [
    {
     "name": "stdout",
     "output_type": "stream",
     "text": [
      "2\n",
      "<class 'int'>\n"
     ]
    }
   ],
   "source": [
    "#integer\n",
    "num1 = int(2)\n",
    "print(num1)\n",
    "print(type(num1))"
   ]
  },
  {
   "cell_type": "code",
   "execution_count": 21,
   "id": "c7e30ce4",
   "metadata": {},
   "outputs": [
    {
     "name": "stdout",
     "output_type": "stream",
     "text": [
      "2.0\n",
      "<class 'float'>\n"
     ]
    }
   ],
   "source": [
    "#float\n",
    "num2 = float(2)\n",
    "print(num2)\n",
    "print(type(num2))"
   ]
  },
  {
   "cell_type": "code",
   "execution_count": 23,
   "id": "a40e4a87",
   "metadata": {},
   "outputs": [
    {
     "name": "stdout",
     "output_type": "stream",
     "text": [
      "2\n",
      "<class 'str'>\n"
     ]
    }
   ],
   "source": [
    "#string\n",
    "s1 = str('2')\n",
    "print(s1)\n",
    "print(type(s1))"
   ]
  },
  {
   "cell_type": "markdown",
   "id": "8d82bb21",
   "metadata": {},
   "source": [
    "#### 10. Why does this expression cause an error? How can you fix it?\n",
    "#### 'I have eaten' + 99 + ' burritos'\n",
    "**Ans:-*** This cause of error is `99`.because `99` is not a string. `99` must be typecasted to a string to fix this error. the correct way is:\n",
    "\n",
    "**Input:** 'I have eaten ' + str(99) + 'burritos.'\n",
    "\n",
    "**Output:** 'I have eaten 99 burritos.'"
   ]
  }
 ],
 "metadata": {
  "kernelspec": {
   "display_name": "Python [conda env:tensorflow] *",
   "language": "python",
   "name": "conda-env-tensorflow-py"
  },
  "language_info": {
   "codemirror_mode": {
    "name": "ipython",
    "version": 3
   },
   "file_extension": ".py",
   "mimetype": "text/x-python",
   "name": "python",
   "nbconvert_exporter": "python",
   "pygments_lexer": "ipython3",
   "version": "3.9.12"
  }
 },
 "nbformat": 4,
 "nbformat_minor": 5
}
